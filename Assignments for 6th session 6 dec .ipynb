{
 "cells": [
  {
   "cell_type": "code",
   "execution_count": 5,
   "id": "83743fb1",
   "metadata": {},
   "outputs": [
    {
     "name": "stdout",
     "output_type": "stream",
     "text": [
      "enter student name: Kartik Gadhave\n",
      "enter your standard: 6\n",
      "enter your division: F\n",
      "enter your age: 12\n",
      "enter English marks: 90\n",
      "enter Math marks: 90\n",
      "enter science marks: 95\n",
      "enter History marks: 90\n",
      "enter Civics marks: 93\n",
      "Kartik Gadhave\n",
      "6\n",
      "F\n",
      "12\n",
      "90\n",
      "90\n",
      "95\n",
      "90\n",
      "93\n",
      "458\n",
      "91.6\n"
     ]
    }
   ],
   "source": [
    "# Assign -1  student details with 5 marks \n",
    "sname = input(\"enter student name: \")\n",
    "sstandard = input(\"enter your standard: \")\n",
    "sDivion = input(\"enter your division: \")\n",
    "sage  = input(\"enter your age: \") \n",
    "English = int(input(\"enter English marks: \"))\n",
    "Math = int(input(\"enter Math marks: \"))\n",
    "science = int(input(\"enter science marks: \"))\n",
    "History = int(input(\"enter History marks: \"))\n",
    "Civics = int(input(\"enter Civics marks: \"))\n",
    "Total = English+Math+science+History+Civics\n",
    "Average= Total/5\n",
    "print(sname)\n",
    "print(sstandard)\n",
    "print(sDivion)\n",
    "print(sage)\n",
    "print(English)\n",
    "print(Math)\n",
    "print(science)\n",
    "print(History)\n",
    "print(Civics)\n",
    "print(Total)\n",
    "print(Average)"
   ]
  },
  {
   "cell_type": "code",
   "execution_count": 6,
   "id": "53d4e7ab",
   "metadata": {},
   "outputs": [
    {
     "name": "stdout",
     "output_type": "stream",
     "text": [
      "20024\n"
     ]
    }
   ],
   "source": [
    "# Assign 2 Aithmatic calculation \n",
    "a = 3456\n",
    "b = 6782\n",
    "c = 9786\n",
    "\n",
    "x = a + b + c\n",
    "print(x)\n",
    "\n"
   ]
  },
  {
   "cell_type": "code",
   "execution_count": 7,
   "id": "7c83c2d8",
   "metadata": {},
   "outputs": [
    {
     "name": "stdout",
     "output_type": "stream",
     "text": [
      "229370061312\n"
     ]
    }
   ],
   "source": [
    "y = a*b*c\n",
    "print(y)"
   ]
  },
  {
   "cell_type": "code",
   "execution_count": 8,
   "id": "3c2eb8a6",
   "metadata": {},
   "outputs": [
    {
     "name": "stdout",
     "output_type": "stream",
     "text": [
      "-452\n"
     ]
    }
   ],
   "source": [
    "z = c-b-a\n",
    "print(z)"
   ]
  },
  {
   "cell_type": "code",
   "execution_count": null,
   "id": "d959c2b1",
   "metadata": {},
   "outputs": [
    {
     "name": "stdout",
     "output_type": "stream",
     "text": [
      "enter Employee name: Vishnu Pujari\n",
      "enter Employee Designation: Manager\n",
      "enter Employee salary: 50000\n"
     ]
    }
   ],
   "source": [
    "# Assign 3\n",
    "Empname = input(\"enter Employee name: \")\n",
    "Empdesg= input(\"enter Employee Designation: \")\n",
    "Empsal = input(\"enter Employee salary: \")\n",
    "Empexp  = input(\"enter Employee Experience: \") \n",
    "salary = 50000\n",
    "Hike = 50000*0.15\n",
    "print(Empname)\n",
    "print(Empdesg)\n",
    "print(Empsal)\n",
    "print(Empexp)\n",
    "print(Hike)\n"
   ]
  },
  {
   "cell_type": "code",
   "execution_count": null,
   "id": "31e13de4",
   "metadata": {},
   "outputs": [],
   "source": []
  }
 ],
 "metadata": {
  "kernelspec": {
   "display_name": "Python 3",
   "language": "python",
   "name": "python3"
  },
  "language_info": {
   "codemirror_mode": {
    "name": "ipython",
    "version": 3
   },
   "file_extension": ".py",
   "mimetype": "text/x-python",
   "name": "python",
   "nbconvert_exporter": "python",
   "pygments_lexer": "ipython3",
   "version": "3.8.8"
  }
 },
 "nbformat": 4,
 "nbformat_minor": 5
}
